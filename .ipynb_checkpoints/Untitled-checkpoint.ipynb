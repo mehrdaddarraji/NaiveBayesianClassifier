{
 "cells": [
  {
   "cell_type": "code",
   "execution_count": 21,
   "metadata": {},
   "outputs": [
    {
     "ename": "TypeError",
     "evalue": "can only concatenate str (not \"numpy.float64\") to str",
     "output_type": "error",
     "traceback": [
      "\u001b[0;31m---------------------------------------------------------------------------\u001b[0m",
      "\u001b[0;31mTypeError\u001b[0m                                 Traceback (most recent call last)",
      "\u001b[0;32m<ipython-input-21-98fd17658e98>\u001b[0m in \u001b[0;36m<module>\u001b[0;34m\u001b[0m\n\u001b[1;32m     73\u001b[0m \u001b[0;34m\u001b[0m\u001b[0m\n\u001b[1;32m     74\u001b[0m \u001b[0;31m# test models accuracy\u001b[0m\u001b[0;34m\u001b[0m\u001b[0;34m\u001b[0m\u001b[0;34m\u001b[0m\u001b[0m\n\u001b[0;32m---> 75\u001b[0;31m \u001b[0mprint\u001b[0m \u001b[0;34m(\u001b[0m\u001b[0;34m\"Model Accuracy\"\u001b[0m \u001b[0;34m+\u001b[0m \u001b[0mroc_auc_score\u001b[0m\u001b[0;34m(\u001b[0m\u001b[0my_test\u001b[0m\u001b[0;34m,\u001b[0m \u001b[0mclf\u001b[0m\u001b[0;34m.\u001b[0m\u001b[0mpredict_proba\u001b[0m\u001b[0;34m(\u001b[0m\u001b[0mX_test\u001b[0m\u001b[0;34m)\u001b[0m\u001b[0;34m[\u001b[0m\u001b[0;34m:\u001b[0m\u001b[0;34m,\u001b[0m\u001b[0;36m1\u001b[0m\u001b[0;34m]\u001b[0m\u001b[0;34m)\u001b[0m\u001b[0;34m)\u001b[0m\u001b[0;34m\u001b[0m\u001b[0;34m\u001b[0m\u001b[0m\n\u001b[0m\u001b[1;32m     76\u001b[0m \u001b[0;34m\u001b[0m\u001b[0m\n\u001b[1;32m     77\u001b[0m \u001b[0;31m# import bookings.com comments\u001b[0m\u001b[0;34m\u001b[0m\u001b[0;34m\u001b[0m\u001b[0;34m\u001b[0m\u001b[0m\n",
      "\u001b[0;31mTypeError\u001b[0m: can only concatenate str (not \"numpy.float64\") to str"
     ]
    }
   ],
   "source": [
    "import pandas as pd\n",
    "from pandas import DataFrame\n",
    "from nltk.corpus import stopwords\n",
    "from sklearn.feature_extraction.text import TfidfVectorizer\n",
    "from sklearn import naive_bayes\n",
    "from sklearn.metrics import roc_auc_score\n",
    "\n",
    "# function to create dataframes for text and sentiment\n",
    "def sentimentDataFrame(filename):\n",
    "    \n",
    "    # import train data\n",
    "    file = open(filename, \"r\")\n",
    "    lines = file.readlines()\n",
    "    lines.pop(0)\n",
    "    file.close()\n",
    "    \n",
    "    # data structure for text and sentiment\n",
    "    reviews = []\n",
    "    sentiments = []\n",
    "    \n",
    "    # a DataFrame for the text and the corresponding sentiment\n",
    "    for line in lines: \n",
    "        \n",
    "        index = 0\n",
    "        char = ''\n",
    "        \n",
    "        # find the start of the comment\n",
    "        while char != ',' and index < len(line):\n",
    "            \n",
    "            char = line[index]\n",
    "            index += 1\n",
    "        \n",
    "        \n",
    "        # score of the the text turned into pos/neg\n",
    "        score = int(line[-4])\n",
    "        \n",
    "        # get the text \n",
    "        if score != 3:\n",
    "            \n",
    "            review = line[index + 1:-7]\n",
    "            \n",
    "            if score >= 4:\n",
    "                reviews.append(review)\n",
    "                sentiments.append(1)\n",
    "            else:\n",
    "                # append negative reviews more since they are scarce\n",
    "                # in the data set\n",
    "                for i in range(7):\n",
    "                    reviews.append(review)\n",
    "                    sentiments.append(0)\n",
    "            \n",
    "    # creating DataFrame out of text and sentiment\n",
    "    df = DataFrame({'reviews':reviews, 'sentiments':sentiments})\n",
    "    return df\n",
    "\n",
    "\n",
    "\n",
    "# TFIDF Vectorizer - used to convert reviews from text to features\n",
    "stopset = set(stopwords.words('english'))\n",
    "vectorizer = TfidfVectorizer(use_idf=True, lowercase=True,\n",
    "                            strip_accents='ascii', stop_words=stopset)\n",
    "\n",
    "# dataframes for train and test dataset\n",
    "train_df = sentimentDataFrame(\"lab_train.txt\")\n",
    "X_train, y_train = vectorizer.fit_transform(train_df.reviews), train_df.sentiments\n",
    "\n",
    "test_df = sentimentDataFrame(\"lab_test.txt\")\n",
    "X_test, y_test = vectorizer.transform(test_df.reviews), test_df.sentiments\n",
    "\n",
    "# train using naive bayes classifier\n",
    "clf = naive_bayes.MultinomialNB()\n",
    "clf.fit(X_train, y_train)\n",
    "\n",
    "# test models accuracy\n",
    "print (\"Model Accuracy \", roc_auc_score(y_test, clf.predict_proba(X_test)[:,1]))\n",
    "\n",
    "# import bookings.com comments\n",
    "comments_df = pd.read_excel(\"evaluation_dataset.xlsx\", header=None, names=['reviews'])\n",
    "comments_vector = vectorizer.transform(comments_df['reviews'])\n",
    "comments_df['sentiments'] = clf.predict(comments_vector)\n",
    "\n",
    "comments_df"
   ]
  },
  {
   "cell_type": "code",
   "execution_count": null,
   "metadata": {},
   "outputs": [],
   "source": []
  },
  {
   "cell_type": "code",
   "execution_count": null,
   "metadata": {},
   "outputs": [],
   "source": []
  },
  {
   "cell_type": "code",
   "execution_count": null,
   "metadata": {},
   "outputs": [],
   "source": []
  },
  {
   "cell_type": "code",
   "execution_count": null,
   "metadata": {},
   "outputs": [],
   "source": []
  }
 ],
 "metadata": {
  "kernelspec": {
   "display_name": "Python 3",
   "language": "python",
   "name": "python3"
  },
  "language_info": {
   "codemirror_mode": {
    "name": "ipython",
    "version": 3
   },
   "file_extension": ".py",
   "mimetype": "text/x-python",
   "name": "python",
   "nbconvert_exporter": "python",
   "pygments_lexer": "ipython3",
   "version": "3.7.1"
  }
 },
 "nbformat": 4,
 "nbformat_minor": 2
}
